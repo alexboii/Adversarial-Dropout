{
  "nbformat": 4,
  "nbformat_minor": 0,
  "metadata": {
    "colab": {
      "name": "t3-10.ipynb",
      "version": "0.3.2",
      "views": {},
      "default_view": {},
      "provenance": [],
      "collapsed_sections": []
    },
    "kernelspec": {
      "name": "python3",
      "display_name": "Python 3"
    },
    "accelerator": "GPU"
  },
  "cells": [
    {
      "metadata": {
        "id": "9kBBrjaDr1R0",
        "colab_type": "code",
        "colab": {
          "autoexec": {
            "startup": false,
            "wait_interval": 0
          }
        }
      },
      "cell_type": "code",
      "source": [
        "# this is required for running the notebook on colab \n",
        "# this is the link to our pytorch notebook on colab: https://colab.research.google.com/drive/1_37hFKHZ7SQh3NbZq0vxwN__yWm4LkTZ#scrollTo=kOyiIGIpi4yQ\n",
        "!pip3 install -q http://download.pytorch.org/whl/cu80/torch-0.3.0.post4-cp36-cp36m-linux_x86_64.whl && pip3 install -q torchvision"
      ],
      "execution_count": 0,
      "outputs": []
    },
    {
      "metadata": {
        "id": "Q7dr95DJKl8N",
        "colab_type": "code",
        "colab": {
          "autoexec": {
            "startup": false,
            "wait_interval": 0
          }
        }
      },
      "cell_type": "code",
      "source": [
        "# COMP 551 Final Project\n",
        "# Adversarial Dropout for Supervised and Semi-Supervised Learning\n",
        "# Authors: Alexander Bratyshkin, David Lougheed, Camilo Garcia"
      ],
      "execution_count": 0,
      "outputs": []
    },
    {
      "metadata": {
        "id": "8EaVag-7ypov",
        "colab_type": "code",
        "colab": {
          "autoexec": {
            "startup": false,
            "wait_interval": 0
          }
        }
      },
      "cell_type": "code",
      "source": [
        "# imports\n",
        "import torch\n",
        "import torch.nn as nn\n",
        "import torch.nn.functional as F\n",
        "import torch.optim as optim\n",
        "import torchvision\n",
        "from torchvision import datasets, transforms\n",
        "from torch.autograd.gradcheck import zero_gradients\n",
        "from torch.autograd import Variable\n",
        "import matplotlib.pyplot as plt\n",
        "import numpy as np\n",
        "import time\n",
        "from math import ceil\n",
        "import random\n",
        "import cv2\n"
      ],
      "execution_count": 0,
      "outputs": []
    },
    {
      "metadata": {
        "id": "2QNunK97yk7J",
        "colab_type": "code",
        "colab": {
          "autoexec": {
            "startup": false,
            "wait_interval": 0
          }
        }
      },
      "cell_type": "code",
      "source": [
        "# check if we have gpu power\n",
        "use_cuda = torch.cuda.is_available()\n",
        "\n",
        "# fix random seeds for reproducability\n",
        "random.seed(15751)\n",
        "torch.manual_seed(15751)\n",
        "\n",
        "if use_cuda:\n",
        "    torch.cuda.manual_seed_all(15751)\n",
        "\n",
        "np.random.seed(15751)\n"
      ],
      "execution_count": 0,
      "outputs": []
    },
    {
      "metadata": {
        "id": "oEPNIeFOt0th",
        "colab_type": "code",
        "colab": {
          "autoexec": {
            "startup": false,
            "wait_interval": 0
          }
        }
      },
      "cell_type": "code",
      "source": [
        "# hyper parameters\n",
        "num_epochs = 3\n",
        "batch_size = 64\n",
        "learning_rate = 0.001\n",
        "delta = 0.005\n"
      ],
      "execution_count": 0,
      "outputs": []
    },
    {
      "metadata": {
        "id": "r-gmwWzXy5Gy",
        "colab_type": "code",
        "colab": {
          "autoexec": {
            "startup": false,
            "wait_interval": 0
          },
          "base_uri": "https://localhost:8080/",
          "height": 119
        },
        "outputId": "9c105646-af59-4422-d349-9dee76504e51",
        "executionInfo": {
          "status": "ok",
          "timestamp": 1524281566030,
          "user_tz": 240,
          "elapsed": 29348,
          "user": {
            "displayName": "David Lougheed",
            "photoUrl": "//lh4.googleusercontent.com/-eX8nUYKfNCk/AAAAAAAAAAI/AAAAAAAABGU/HkMfNQvVekU/s50-c-k-no/photo.jpg",
            "userId": "111096517747914320380"
          }
        }
      },
      "cell_type": "code",
      "source": [
        "# load relevant MNIST datasets, included in pytorch already\n",
        "\n",
        "# training dataset\n",
        "train_loader = torch.utils.data.DataLoader(\n",
        "    datasets.MNIST(root='.', train=True, download=True,\n",
        "                   transform=transforms.Compose([\n",
        "                       transforms.ToTensor(),\n",
        "                       transforms.Normalize((0.1307,), (0.3081,))\n",
        "                   ])), batch_size=batch_size, shuffle=True, num_workers=4)\n",
        "# test dataset\n",
        "test_loader = torch.utils.data.DataLoader(\n",
        "    datasets.MNIST(root='.', train=False, transform=transforms.Compose([\n",
        "        transforms.ToTensor(),\n",
        "        transforms.Normalize((0.1307,), (0.3081,))\n",
        "    ])), batch_size=batch_size, shuffle=True, num_workers=4)"
      ],
      "execution_count": 6,
      "outputs": [
        {
          "output_type": "stream",
          "text": [
            "Downloading http://yann.lecun.com/exdb/mnist/train-images-idx3-ubyte.gz\n",
            "Downloading http://yann.lecun.com/exdb/mnist/train-labels-idx1-ubyte.gz\n",
            "Downloading http://yann.lecun.com/exdb/mnist/t10k-images-idx3-ubyte.gz\n",
            "Downloading http://yann.lecun.com/exdb/mnist/t10k-labels-idx1-ubyte.gz\n",
            "Processing...\n",
            "Done!\n"
          ],
          "name": "stdout"
        }
      ]
    },
    {
      "metadata": {
        "id": "nTcz6HP-cYim",
        "colab_type": "code",
        "colab": {
          "autoexec": {
            "startup": false,
            "wait_interval": 0
          }
        }
      },
      "cell_type": "code",
      "source": [
        "# implementation of both loss functions used in the original paper\n",
        "\n",
        "# this one was used for the calculation of the temporary loss \n",
        "# during the adversarial training step\n",
        "def kl_divergence(q_logit, p_logit):\n",
        "  q = F.softmax(q_logit)\n",
        "  \n",
        "  return torch.mean(torch.sum(q * F.log_softmax(q_logit))) - torch.mean(torch.sum(q * F.log_softmax(p_logit.float())))\n",
        "\n",
        "# implemented but never used formally because we ballin'  \n",
        "def qe_loss(logit1, logit2):\n",
        "  logit1 = F.softmax(logit1)\n",
        "  logit2 = F.softmax(logit2.float())\n",
        "  \n",
        "  return torch.mean((logit1 - logit2)*(logit1 - logit2))"
      ],
      "execution_count": 0,
      "outputs": []
    },
    {
      "metadata": {
        "id": "AUHKclPzrIzP",
        "colab_type": "code",
        "colab": {
          "autoexec": {
            "startup": false,
            "wait_interval": 0
          }
        }
      },
      "cell_type": "code",
      "source": [
        "def build_adversarial_matrix(x, delta, jacobian_matrix):  \n",
        "  np_adversarial_matrix = x.data.cpu().numpy()\n",
        "  np_jacobian_matrix = jacobian_matrix.data.cpu().numpy()\n",
        "    \n",
        "  for i in range(len(np_adversarial_matrix)): \n",
        "    e_sample = np.random.randint(2, size=128*3*3)  # Dropout with p=0.5\n",
        "    np_adversarial_matrix[i][:] = get_adversarial_dropout(e_sample, delta, np_jacobian_matrix[i])\n",
        "\n",
        "  result_matrix = Variable(torch.from_numpy(np_adversarial_matrix))\n",
        "  \n",
        "  if use_cuda:\n",
        "    result_matrix = Variable(torch.from_numpy(np_adversarial_matrix)).cuda()\n",
        "  \n",
        "  return result_matrix\n",
        "\n",
        "def get_adversarial_dropout_slow(sampled_mask, delta, jacobian):\n",
        "  \"\"\"\n",
        "  The following is a verbatim implementation of Algorithm 1 as described by\n",
        "  Park et al in the paper of interest. It was found to be too slow for\n",
        "  practical usage, but is included as a comparison / sanity check for the\n",
        "  performance-optimized version and for completeness.\n",
        "  \"\"\"\n",
        "  \n",
        "  layer_size = 128*3*3\n",
        "  constraint = delta * layer_size  # As defined by Park et al.\n",
        "  \n",
        "  z = abs(jacobian)\n",
        "  e_adv = np.copy(sampled_mask)\n",
        "  i_indices = np.argsort(z)\n",
        "  \n",
        "  d = 0\n",
        "  while (np.linalg.norm(sampled_mask - e_adv) <= constraint and d < layer_size): \n",
        "    if(e_adv[i_indices[d]] == 0 and jacobian[i_indices[d]] > 0):\n",
        "      e_adv[i_indices[d]] = 1\n",
        "    elif(e_adv[i_indices[d]] == 1 and jacobian[i_indices[d]] < 0):\n",
        "      e_adv[i_indices[d]] = 0\n",
        "    \n",
        "    d += 1\n",
        "    \n",
        "  return e_adv\n",
        "  \n",
        "\n",
        "def get_adversarial_dropout(sampled_mask, delta, jacobian):\n",
        "  \"\"\"\n",
        "  The following is a performance-optimized version of Algorithm 1 as described\n",
        "  by Park et al in the paper of interest. Instead of the described while loop,\n",
        "  bitmasks and bitwise operations are used to increase training speed.\n",
        "  \"\"\"\n",
        "  \n",
        "  layer_size = 128*3*3\n",
        "  constraint = delta * layer_size  # As defined by Park et al.\n",
        "  \n",
        "  e_adv = np.copy(sampled_mask)\n",
        "  i_indices = np.argsort(abs(jacobian))\n",
        "  # Store inverse map of sorted indices as well, to get back original order.\n",
        "  i_indices_inv = np.argsort(i_indices)\n",
        "\n",
        "  # REPLACEMENT BOOLEAN MASK (Determines which will be adversarially changed):\n",
        "  # 1 if sample is 0 (false) and jacobian > 0 (true)\n",
        "  # or sample is 1 (true) and jacobian < 0 (false),\n",
        "  # making sure to ignore any 0 gradients:\n",
        "  replacement_mask = np.bitwise_and(np.bitwise_xor(e_adv.astype(bool), jacobian > 0), jacobian != 0)\n",
        "  \n",
        "  # Find top-K neurons to flip on or off using the replacement mask sorted\n",
        "  # by the order specified in the algorithm (absolute values of the Jacobian\n",
        "  # vector sorted small to large).\n",
        "  rm_sorted = replacement_mask[i_indices]\n",
        "  rm_nonzero = np.nonzero(rm_sorted)[0]\n",
        "  rm_nonzero = rm_nonzero[:min(ceil(constraint ** 2), len(rm_nonzero))]\n",
        "  rm_nonzero_mask = np.zeros(layer_size)\n",
        "  rm_nonzero_mask[rm_nonzero] = 1\n",
        "  rm_nonzero_mask = rm_nonzero_mask[i_indices_inv].astype(bool)\n",
        "\n",
        "  # 1 if e_adv = 1 and no replace (false), 0 otherwise\n",
        "  # 0 if e_adv = 0 and no replace (false), 1 otherwise\n",
        "  e_adv = np.bitwise_xor(sampled_mask.astype(bool), rm_nonzero_mask).astype(int)\n",
        "    \n",
        "  return e_adv.astype(int)\n",
        "     "
      ],
      "execution_count": 0,
      "outputs": []
    },
    {
      "metadata": {
        "id": "bYRbZ4wlrPjI",
        "colab_type": "code",
        "colab": {
          "autoexec": {
            "startup": false,
            "wait_interval": 0
          }
        }
      },
      "cell_type": "code",
      "source": [
        "# model for training MNIST, including adversarial dropout\n",
        "class CNN(nn.Module):\n",
        "  def __init__(self):\n",
        "    super(CNN, self).__init__()\n",
        "    self.features = nn.Sequential(\n",
        "        nn.Conv2d(1, 32, kernel_size=3, stride=1),\n",
        "        nn.ReLU(inplace=True),\n",
        "        nn.MaxPool2d(kernel_size=2, stride=2, padding=1),\n",
        "        nn.Dropout2d(),\n",
        "        nn.Conv2d(32, 64, kernel_size=3, stride=1),\n",
        "        nn.ReLU(inplace=True),\n",
        "        nn.MaxPool2d(kernel_size=2, stride=2, padding=1),\n",
        "        nn.Dropout2d(),\n",
        "        nn.Conv2d(64, 128, kernel_size=3, stride=1),\n",
        "        nn.ReLU(inplace=True),\n",
        "        nn.MaxPool2d(kernel_size=2, stride=2, padding=1),\n",
        "    )\n",
        "    \n",
        "\n",
        "  def forward(self, x):\n",
        "    out = self.features(x)    \n",
        "    return out.view(out.size(0), 128*3*3)\n",
        "  \n",
        "# model for training MNIST, including adversarial dropout\n",
        "class Linear(nn.Module):\n",
        "  def __init__(self):\n",
        "    super(Linear, self).__init__()\n",
        "    \n",
        "    self.first_linear = nn.Linear(128*3*3, 625)\n",
        "    \n",
        "    self.classifier = nn.Sequential(\n",
        "      self.first_linear,\n",
        "      nn.ReLU(inplace=True),\n",
        "      nn.Linear(625, 10),\n",
        "    )\n",
        "\n",
        "\n",
        "  def forward(self, x):\n",
        "    x = self.classifier(x)\n",
        "    return x"
      ],
      "execution_count": 0,
      "outputs": []
    },
    {
      "metadata": {
        "id": "r8FXOzYBN7PU",
        "colab_type": "code",
        "colab": {
          "autoexec": {
            "startup": false,
            "wait_interval": 0
          }
        }
      },
      "cell_type": "code",
      "source": [
        "# instantiate convolutional & linear part of CNN separately \n",
        "model_pre_grad = CNN()\n",
        "model_post_grad = Linear()\n",
        "if use_cuda:\n",
        "    model_pre_grad.cuda()\n",
        "    model_post_grad.cuda()\n",
        "    "
      ],
      "execution_count": 0,
      "outputs": []
    },
    {
      "metadata": {
        "id": "320pWT_Zu_3G",
        "colab_type": "code",
        "colab": {
          "autoexec": {
            "startup": false,
            "wait_interval": 0
          }
        }
      },
      "cell_type": "code",
      "source": [
        "# used for growth visualization\n",
        "test_accuracy_per_epoch = []\n",
        "test_loss_per_epoch = []\n",
        "\n",
        "# used for sparsity visualization\n",
        "weights_per_epoch = []"
      ],
      "execution_count": 0,
      "outputs": []
    },
    {
      "metadata": {
        "id": "JPj-K63P5WRh",
        "colab_type": "code",
        "colab": {
          "autoexec": {
            "startup": false,
            "wait_interval": 0
          }
        }
      },
      "cell_type": "code",
      "source": [
        "opt = torch.optim.Adam(list(model_post_grad.parameters()) + list(model_pre_grad.parameters()), lr=0.001)\n",
        "loss_func = nn.CrossEntropyLoss()\n",
        "\n",
        "# IMPORTANT #\n",
        "# set use_adversarial to true if you want to train the model with adversarial dropout\n",
        "# set use_adversarial to false if you want to train the model with regular dropout \n",
        "# IMPORTANT #\n",
        "use_adversarial = True \n",
        "\n",
        "def train(epoch):\n",
        "  model_post_grad.train()\n",
        "  for batch_idx, (data, target) in enumerate(train_loader):\n",
        "    if use_cuda:\n",
        "        data, target = data.cuda(), target.cuda()\n",
        "        \n",
        "    data, target = Variable(data, requires_grad=True), Variable(target)\n",
        "\n",
        "    output_pre_grad = model_pre_grad(data)\n",
        "    \n",
        "    if use_adversarial: \n",
        "      predict = model_post_grad(output_pre_grad)\n",
        "      \n",
        "      temp_loss = 0\n",
        "      for i in range(len(predict)): \n",
        "        temp_loss += kl_divergence(predict[i], target[i])\n",
        "\n",
        "      model_post_grad.zero_grad()\n",
        "\n",
        "      dL_dh = torch.autograd.grad(temp_loss, output_pre_grad, retain_graph=True)[0]\n",
        "      jacobian = output_pre_grad * dL_dh\n",
        "      output_pre_grad = output_pre_grad * build_adversarial_matrix(output_pre_grad, delta, jacobian)\n",
        "\n",
        "    else: \n",
        "      # Try using numpy random dropout for reproducability (so we can properly\n",
        "      # compare with the adversarial dropout also generated with numpy's random\n",
        "      # matrix generator.)\n",
        "      np_output_pre_grad = output_pre_grad.data.cpu().numpy()\n",
        "      random_dropout = np.random.randint(2, size=(len(np_output_pre_grad), 128*3*3))\n",
        "      \n",
        "      result_matrix = Variable(torch.from_numpy(random_dropout).float())\n",
        "      if use_cuda:\n",
        "        result_matrix = Variable(torch.from_numpy(random_dropout).float()).cuda()\n",
        "      \n",
        "      output_pre_grad = output_pre_grad * result_matrix\n",
        "    \n",
        "    predict = model_post_grad(output_pre_grad)\n",
        "    \n",
        "    loss = loss_func(predict, target)\n",
        "    model_pre_grad.zero_grad()   \n",
        "    model_post_grad.zero_grad()\n",
        "    \n",
        "    loss.backward()\n",
        "    opt.step()\n",
        "    if batch_idx % 10 == 0:\n",
        "        print('Train Epoch: {} [{}/{} ({:.0f}%)]\\tLoss: {:.6f}'.format(\n",
        "            epoch, batch_idx * len(data), len(train_loader.dataset),\n",
        "            100. * batch_idx / len(train_loader), loss.data[0]))\n",
        "  \n",
        "  weights = list(map(lambda p: p.data, model_post_grad.first_linear.parameters()))[0].cpu().numpy()\n",
        "  weights_per_epoch.append(weights)\n",
        "            \n",
        "def test():\n",
        "  model_post_grad.train()\n",
        "  test_loss = 0.0\n",
        "  correct = 0\n",
        "  for data, target in test_loader:\n",
        "    if use_cuda:\n",
        "        data, target = data.cuda(), target.cuda()\n",
        "    data, target = Variable(data, volatile=True), Variable(target)\n",
        "\n",
        "    output_pre_grad = model_pre_grad(data)\n",
        "    predict = model_post_grad(output_pre_grad)\n",
        "\n",
        "    # sum up batch loss\n",
        "    test_loss += loss_func(predict, target).data[0]\n",
        "    # get the index of the max log-probability\n",
        "    pred = predict.data.max(1, keepdim=True)[1]\n",
        "    correct += pred.eq(target.data.view_as(pred)).cpu().sum()\n",
        "\n",
        "  test_loss /= len(test_loader.dataset)\n",
        "  test_accuracy = 100. * correct / len(test_loader.dataset)\n",
        "  test_accuracy_per_epoch.append(test_accuracy)\n",
        "  test_loss_per_epoch.append(test_loss)\n",
        "  \n",
        "  \n",
        "  print('\\nTest set: Average loss: {:.4f}, Accuracy: {}/{} ({:.2f}%)\\n'\n",
        "        .format(test_loss, correct, len(test_loader.dataset),\n",
        "                test_accuracy))"
      ],
      "execution_count": 0,
      "outputs": []
    },
    {
      "metadata": {
        "id": "r0YKvDtRrnyT",
        "colab_type": "code",
        "colab": {
          "autoexec": {
            "startup": false,
            "wait_interval": 0
          },
          "base_uri": "https://localhost:8080/",
          "height": 663
        },
        "outputId": "170eecdf-5c4c-4fd8-ed70-8c7f50dca6a9",
        "executionInfo": {
          "status": "ok",
          "timestamp": 1524281626262,
          "user_tz": 240,
          "elapsed": 48379,
          "user": {
            "displayName": "Alex Bratyshkin",
            "photoUrl": "https://lh3.googleusercontent.com/a/default-user=s128",
            "userId": "117283747703740637664"
          }
        }
      },
      "cell_type": "code",
      "source": [
        "for epoch in range(1, num_epochs):\n",
        "  start_epoch = time.time()\n",
        "  train(epoch)\n",
        "  end_epoch = time.time()\n",
        "  print(\"Epoch time: \", end_epoch - start_epoch)\n",
        "  test()"
      ],
      "execution_count": 13,
      "outputs": [
        {
          "output_type": "stream",
          "text": [
            "Train Epoch: 2 [38400/60000 (64%)]\tLoss: 0.045301\n",
            "Train Epoch: 2 [39040/60000 (65%)]\tLoss: 0.027263\n",
            "Train Epoch: 2 [39680/60000 (66%)]\tLoss: 0.081007\n",
            "Train Epoch: 2 [40320/60000 (67%)]\tLoss: 0.162174\n",
            "Train Epoch: 2 [40960/60000 (68%)]\tLoss: 0.050996\n",
            "Train Epoch: 2 [41600/60000 (69%)]\tLoss: 0.063503\n",
            "Train Epoch: 2 [42240/60000 (70%)]\tLoss: 0.039798\n",
            "Train Epoch: 2 [42880/60000 (71%)]\tLoss: 0.171076\n",
            "Train Epoch: 2 [43520/60000 (72%)]\tLoss: 0.256019\n",
            "Train Epoch: 2 [44160/60000 (74%)]\tLoss: 0.107568\n",
            "Train Epoch: 2 [44800/60000 (75%)]\tLoss: 0.180361\n",
            "Train Epoch: 2 [45440/60000 (76%)]\tLoss: 0.179602\n",
            "Train Epoch: 2 [46080/60000 (77%)]\tLoss: 0.103085\n",
            "Train Epoch: 2 [46720/60000 (78%)]\tLoss: 0.145554\n",
            "Train Epoch: 2 [47360/60000 (79%)]\tLoss: 0.031157\n",
            "Train Epoch: 2 [48000/60000 (80%)]\tLoss: 0.099849\n",
            "Train Epoch: 2 [48640/60000 (81%)]\tLoss: 0.084907\n",
            "Train Epoch: 2 [49280/60000 (82%)]\tLoss: 0.111174\n",
            "Train Epoch: 2 [49920/60000 (83%)]\tLoss: 0.137713\n",
            "Train Epoch: 2 [50560/60000 (84%)]\tLoss: 0.202287\n",
            "Train Epoch: 2 [51200/60000 (85%)]\tLoss: 0.124912\n",
            "Train Epoch: 2 [51840/60000 (86%)]\tLoss: 0.028496\n",
            "Train Epoch: 2 [52480/60000 (87%)]\tLoss: 0.040287\n",
            "Train Epoch: 2 [53120/60000 (88%)]\tLoss: 0.314225\n",
            "Train Epoch: 2 [53760/60000 (90%)]\tLoss: 0.147609\n",
            "Train Epoch: 2 [54400/60000 (91%)]\tLoss: 0.032210\n",
            "Train Epoch: 2 [55040/60000 (92%)]\tLoss: 0.131793\n",
            "Train Epoch: 2 [55680/60000 (93%)]\tLoss: 0.255319\n",
            "Train Epoch: 2 [56320/60000 (94%)]\tLoss: 0.102218\n",
            "Train Epoch: 2 [56960/60000 (95%)]\tLoss: 0.132469\n",
            "Train Epoch: 2 [57600/60000 (96%)]\tLoss: 0.122652\n",
            "Train Epoch: 2 [58240/60000 (97%)]\tLoss: 0.020986\n",
            "Train Epoch: 2 [58880/60000 (98%)]\tLoss: 0.145724\n",
            "Train Epoch: 2 [59520/60000 (99%)]\tLoss: 0.099390\n",
            "Epoch time:  130.7253816127777\n",
            "\n",
            "Test set: Average loss: 0.0015, Accuracy: 9785/10000 (97.85%)\n",
            "\n"
          ],
          "name": "stdout"
        }
      ]
    },
    {
      "metadata": {
        "id": "elxVkq48y3Hs",
        "colab_type": "code",
        "colab": {
          "autoexec": {
            "startup": false,
            "wait_interval": 0
          },
          "base_uri": "https://localhost:8080/",
          "height": 34
        },
        "outputId": "8b40437a-7530-4f44-80e1-188533953a9e",
        "executionInfo": {
          "status": "ok",
          "timestamp": 1524281626552,
          "user_tz": 240,
          "elapsed": 280,
          "user": {
            "displayName": "Alex Bratyshkin",
            "photoUrl": "https://lh3.googleusercontent.com/a/default-user=s128",
            "userId": "117283747703740637664"
          }
        }
      },
      "cell_type": "code",
      "source": [
        "pytorch_total_params = sum(p.numel() for p in model_post_grad.parameters() if p.requires_grad)\n",
        "print(pytorch_total_params)"
      ],
      "execution_count": 14,
      "outputs": [
        {
          "output_type": "stream",
          "text": [
            "726885\n"
          ],
          "name": "stdout"
        }
      ]
    },
    {
      "metadata": {
        "id": "K-x9DmpXDy3E",
        "colab_type": "code",
        "colab": {
          "autoexec": {
            "startup": false,
            "wait_interval": 0
          },
          "base_uri": "https://localhost:8080/",
          "height": 416
        },
        "outputId": "f5b0feff-ca96-4a10-80a0-1c2a29d1d8d0",
        "executionInfo": {
          "status": "ok",
          "timestamp": 1524281627183,
          "user_tz": 240,
          "elapsed": 601,
          "user": {
            "displayName": "Alex Bratyshkin",
            "photoUrl": "https://lh3.googleusercontent.com/a/default-user=s128",
            "userId": "117283747703740637664"
          }
        }
      },
      "cell_type": "code",
      "source": [
        "# plots used for sparsity claims \n",
        "\n",
        "abs_weights = abs(np.array(weights_per_epoch)).flatten()\n",
        "plt.title(('Weight Magnitude Distribution with ' + ('Adversarial ' if use_adversarial else 'Regular ') + 'Dropout'), fontsize=20)\n",
        "plt.hist(abs_weights, 40)\n",
        "plt.xlabel('Magnitude')\n",
        "plt.ylabel('Count')\n",
        "\n",
        "# Print statistics related to sparsity\n",
        "print('Mean: {}'.format(np.mean(abs_weights)))\n",
        "print('Variance: {}'.format(np.var(abs_weights)))"
      ],
      "execution_count": 15,
      "outputs": [
        {
          "output_type": "stream",
          "text": [
            "Mean: 0.02506999298930168\n",
            "Variance: 0.0004380300233606249\n"
          ],
          "name": "stdout"
        },
        {
          "output_type": "display_data",
          "data": {
            "image/png": "[encoded data removed]",
            "text/plain": [
              "<matplotlib.figure.Figure at 0x7f5eb88b0c88>"
            ]
          },
          "metadata": {
            "tags": []
          }
        }
      ]
    },
    {
      "metadata": {
        "id": "Xu3EU21Dwsuq",
        "colab_type": "code",
        "colab": {
          "autoexec": {
            "startup": false,
            "wait_interval": 0
          },
          "base_uri": "https://localhost:8080/",
          "height": 416
        },
        "outputId": "67917677-b679-4d6f-e1cb-88fce37dfafe",
        "executionInfo": {
          "status": "ok",
          "timestamp": 1524281627770,
          "user_tz": 240,
          "elapsed": 561,
          "user": {
            "displayName": "Alex Bratyshkin",
            "photoUrl": "https://lh3.googleusercontent.com/a/default-user=s128",
            "userId": "117283747703740637664"
          }
        }
      },
      "cell_type": "code",
      "source": [
        "# plot for accuracy growth \n",
        "plt.title(('Test Accuracy Growth with '+('Adversarial' if use_adversarial else 'Regular ')+' Dropout'), fontsize=20)\n",
        "plt.plot(range(0, num_epochs - 1), test_accuracy_per_epoch)\n",
        "plt.xlabel('Epochs')\n",
        "plt.ylabel('Accuracy')\n",
        "plt.legend()\n"
      ],
      "execution_count": 16,
      "outputs": [
        {
          "output_type": "stream",
          "text": [
            "No handles with labels found to put in legend.\n"
          ],
          "name": "stderr"
        },
        {
          "output_type": "execute_result",
          "data": {
            "text/plain": [
              "<matplotlib.legend.Legend at 0x7f5ebe738748>"
            ]
          },
          "metadata": {
            "tags": []
          },
          "execution_count": 16
        },
        {
          "output_type": "display_data",
          "data": {
            "image/png": "[encoded data removed]",
            "text/plain": [
              "<matplotlib.figure.Figure at 0x7f5eb889f7f0>"
            ]
          },
          "metadata": {
            "tags": []
          }
        }
      ]
    },
    {
      "metadata": {
        "id": "kOyiIGIpi4yQ",
        "colab_type": "text"
      },
      "cell_type": "markdown",
      "source": [
        ""
      ]
    },
    {
      "metadata": {
        "id": "FqTGSNI5yIU6",
        "colab_type": "code",
        "colab": {
          "autoexec": {
            "startup": false,
            "wait_interval": 0
          },
          "base_uri": "https://localhost:8080/",
          "height": 420
        },
        "outputId": "6c3b8da4-cb9a-4c0a-d058-3687424cba34",
        "executionInfo": {
          "status": "ok",
          "timestamp": 1524153463262,
          "user_tz": 240,
          "elapsed": 419,
          "user": {
            "displayName": "Alex Bratyshkin",
            "photoUrl": "https://lh3.googleusercontent.com/a/default-user=s128",
            "userId": "117283747703740637664"
          }
        }
      },
      "cell_type": "code",
      "source": [
        "# plot for regular dropout \n",
        "plt.title(('Test Loss with '+('Adversarial' if use_adversarial else 'Regular ')+' Dropout'), fontsize=20)\n",
        "plt.plot(range(0, num_epochs - 1), test_loss_per_epoch)\n",
        "plt.xlabel('Epochs')\n",
        "plt.ylabel('Loss')\n",
        "plt.legend()\n"
      ],
      "execution_count": 20,
      "outputs": [
        {
          "output_type": "stream",
          "text": [
            "No handles with labels found to put in legend.\n"
          ],
          "name": "stderr"
        },
        {
          "output_type": "execute_result",
          "data": {
            "text/plain": [
              "<matplotlib.legend.Legend at 0x7f7032d8f940>"
            ]
          },
          "metadata": {
            "tags": []
          },
          "execution_count": 20
        },
        {
          "output_type": "display_data",
          "data": {
            "image/png": "[encoded data removed]",
            "text/plain": [
              "<matplotlib.figure.Figure at 0x7f7076ac1278>"
            ]
          },
          "metadata": {
            "tags": []
          }
        }
      ]
    },
    {
      "metadata": {
        "id": "zspKoUQTyULV",
        "colab_type": "code",
        "colab": {
          "autoexec": {
            "startup": false,
            "wait_interval": 0
          },
          "base_uri": "https://localhost:8080/",
          "height": 71
        },
        "outputId": "f6447187-358e-4f09-cac2-c97b41cc590b",
        "executionInfo": {
          "status": "ok",
          "timestamp": 1524093449873,
          "user_tz": 240,
          "elapsed": 284,
          "user": {
            "displayName": "David Lougheed",
            "photoUrl": "//lh4.googleusercontent.com/-eX8nUYKfNCk/AAAAAAAAAAI/AAAAAAAABGU/HkMfNQvVekU/s50-c-k-no/photo.jpg",
            "userId": "111096517747914320380"
          }
        }
      },
      "cell_type": "code",
      "source": [
        "print(test_accuracy_per_epoch)\n",
        "print(test_loss_per_epoch)"
      ],
      "execution_count": 40,
      "outputs": [
        {
          "output_type": "stream",
          "text": [
            "[97.48, 98.09, 98.03, 98.65, 98.55, 98.91, 98.57, 98.82, 98.78, 98.95, 98.92, 99.06, 98.76, 99.0, 98.89, 98.91, 98.69, 98.9, 98.87, 98.98, 98.93, 98.91, 98.84, 98.96, 98.97, 98.92, 98.85, 99.15, 99.0, 99.05, 98.96, 99.13, 99.02, 98.95, 99.17, 99.01, 98.96, 99.11, 98.97, 98.98, 98.93, 98.97, 99.12, 98.98, 99.19, 99.08, 99.04, 98.91, 98.99, 98.99, 98.92, 98.96, 99.04, 99.03, 99.09, 99.08, 99.02, 99.03, 98.97, 99.01, 99.03, 99.07, 99.06, 99.05, 99.0, 98.95, 99.08, 99.0, 98.92, 99.0, 98.91, 99.06, 99.08, 99.01, 98.92, 99.08, 99.03, 99.03, 98.96, 98.92, 99.13, 99.15, 99.07, 98.93, 98.94, 99.06, 98.99, 98.94, 98.91, 99.08, 99.03, 98.84, 99.05, 98.98, 99.02, 98.93, 99.11, 99.01, 98.75]\n",
            "[0.0014673198468983172, 0.0012709766183048488, 0.0011830859711393713, 0.0008833334695547819, 0.0009063054453581572, 0.0006888090159744024, 0.0009255270896479488, 0.0008427353018894792, 0.0008986948313191533, 0.0007906240837648511, 0.0006962768157944083, 0.0006666545666754246, 0.000999636346101761, 0.0008674791648983955, 0.0008202080429531634, 0.0007752716014161706, 0.0008703499147668481, 0.0006874668180942535, 0.0008491590518504382, 0.0007194478728808463, 0.0007940887505188584, 0.0008798078212887048, 0.0008165229497477413, 0.0009505164845846594, 0.000847508261166513, 0.000844380029849708, 0.0009831119033508003, 0.0006654425067827106, 0.0007157652411609888, 0.0008221697319764643, 0.0008221789724892005, 0.0008072574928402901, 0.0008032946127234027, 0.0007751230096444487, 0.0005967188938055187, 0.0006972436742857099, 0.0008019725639373064, 0.0007099656682577916, 0.0007875663344748318, 0.0007546643190085888, 0.0008703547766432166, 0.0009421478136908263, 0.0007691064767073839, 0.0007257567918859423, 0.0005653460283298045, 0.0006876002212520689, 0.0008465746356640011, 0.0010467527546104975, 0.0009138296230928973, 0.000885676696524024, 0.0008858274628408253, 0.0009298541188240051, 0.0010707272904925049, 0.0007830994854215532, 0.0008341347107663751, 0.0007702220292761922, 0.0008725019048317335, 0.000772385077457875, 0.0009041173761943355, 0.001003283194731921, 0.000862651407532394, 0.0008790444480022416, 0.0008839895119890571, 0.0008753352016676217, 0.0008571474593714811, 0.0009778264751890673, 0.0007626248465385288, 0.0009907785956282168, 0.0008384905278682709, 0.00081808154261671, 0.000835104621667415, 0.0008485222787596285, 0.0008252705950289965, 0.000913398579438217, 0.0011570116464979946, 0.0009795058482966852, 0.0010057224922813475, 0.0009414430872420781, 0.000979088354576379, 0.0009190913888742216, 0.0008088927386561409, 0.0008751773675438017, 0.0009244908402964939, 0.0010872457877732814, 0.0009936639982741325, 0.0008442413007083815, 0.0010015771192964167, 0.001226135281054303, 0.0011545468059834094, 0.0007354236471001058, 0.0008472693260526285, 0.0010304050841135905, 0.0012084787434723694, 0.001190294402843574, 0.0009711227127714665, 0.000987434955323988, 0.0010600769892858807, 0.0010414173834724352, 0.0011155897447955795]\n"
          ],
          "name": "stdout"
        }
      ]
    },
    {
      "metadata": {
        "id": "JL-SeCqlDHUk",
        "colab_type": "code",
        "colab": {
          "autoexec": {
            "startup": false,
            "wait_interval": 0
          }
        }
      },
      "cell_type": "code",
      "source": [
        ""
      ],
      "execution_count": 0,
      "outputs": []
    }
  ]
}